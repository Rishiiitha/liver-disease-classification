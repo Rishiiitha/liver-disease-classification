{
 "cells": [
  {
   "cell_type": "code",
   "execution_count": null,
   "id": "1a5b471a",
   "metadata": {},
   "outputs": [],
   "source": [
    "import pandas as pd\n",
    "import numpy as np\n",
    "import matplotlib.pyplot as plt\n",
    "import seaborn as sns"
   ]
  },
  {
   "cell_type": "code",
   "execution_count": null,
   "id": "4d2a83a0",
   "metadata": {},
   "outputs": [],
   "source": [
    "df=pd.read_csv('liver_dataset_smote.csv')"
   ]
  },
  {
   "cell_type": "code",
   "execution_count": null,
   "id": "d5672cc3",
   "metadata": {},
   "outputs": [],
   "source": [
    "from sklearn.linear_model import LogisticRegression,Lasso,Ridge\n",
    "from sklearn.neighbors import KNeighborsClassifier\n",
    "from sklearn.tree import DecisionTreeClassifier \n",
    "from sklearn.svm import SVC\n",
    "from sklearn.metrics import f1_score,confusion_matrix,ConfusionMatrixDisplay,classification_report,roc_auc_score,recall_score\n",
    "from sklearn.ensemble import RandomForestClassifier\n",
    "from sklearn.naive_bayes import GaussianNB   \n",
    "from sklearn.ensemble import GradientBoostingClassifier\n",
    "from xgboost import XGBClassifier\n",
    "from sklearn.ensemble import AdaBoostClassifier\n",
    "from sklearn.model_selection import GridSearchCV,RandomizedSearchCV\n",
    "from sklearn.model_selection import train_test_split\n",
    "from sklearn.preprocessing import StandardScaler"
   ]
  },
  {
   "cell_type": "code",
   "execution_count": null,
   "id": "bd4d308d",
   "metadata": {},
   "outputs": [],
   "source": [
    "print(df['Dataset'].unique())\n",
    "df = df.rename(columns={\"Dataset\": \"Output\"})\n",
    "df[\"Output\"] = df[\"Output\"].map({1: 0, 2: 1})\n",
    "print(df['Output'].unique())"
   ]
  },
  {
   "cell_type": "code",
   "execution_count": null,
   "id": "7b4f59f0",
   "metadata": {},
   "outputs": [],
   "source": [
    "X=df.iloc[:,:-1]\n",
    "y=df.iloc[:,-1]\n",
    "X_train,X_test,y_train,y_test=train_test_split(X,y,random_state=4)\n",
    "scaler=StandardScaler()\n",
    "X_train=scaler.fit_transform(X_train)\n",
    "X_test=scaler.transform(X_test)"
   ]
  },
  {
   "cell_type": "code",
   "execution_count": null,
   "id": "2621d835",
   "metadata": {},
   "outputs": [],
   "source": [
    "models = {\n",
    "    \"Logistic Regression\": LogisticRegression(class_weight='balanced',max_iter=1000),\n",
    "    \"Lasso (L1)\": LogisticRegression(penalty=\"l1\", solver=\"liblinear\", max_iter=1000),\n",
    "    \"Ridge (L2)\": LogisticRegression(penalty=\"l2\", solver=\"lbfgs\", max_iter=1000),\n",
    "    \"ElasticNet (L1+L2)\": LogisticRegression(penalty=\"elasticnet\", solver=\"saga\", l1_ratio=0.5, max_iter=1000),\n",
    "    \"Decision Tree\": DecisionTreeClassifier(),\n",
    "    \"Random Forest\": RandomForestClassifier(class_weight='balanced'),\n",
    "    \"KNN\": KNeighborsClassifier(),\n",
    "    \"SVM\": SVC(class_weight='balanced',probability=True),\n",
    "    \"Gaussian NB\": GaussianNB(),\n",
    "    \"Gradient Boosting\": GradientBoostingClassifier(),\n",
    "    \"XGBoost\": XGBClassifier(scale_pos_weight = (neg/pos),use_label_encoder=False, eval_metric=\"logloss\"),\n",
    "    \"AdaBoost\":AdaBoostClassifier()\n",
    "}"
   ]
  },
  {
   "cell_type": "code",
   "execution_count": null,
   "id": "75ebfcfe",
   "metadata": {},
   "outputs": [],
   "source": [
    "param_grids = {\n",
    "    \"Random Forest\": {\n",
    "        \"n_estimators\": [100, 200],\n",
    "        \"max_depth\": [1, 5, 10]\n",
    "    },\n",
    "    \"SVM\": {\n",
    "        \"C\": [0.1, 1, 10],\n",
    "        \"kernel\": [\"linear\", \"rbf\"]\n",
    "    },\n",
    "    \"KNN\": {\n",
    "        \"n_neighbors\": [3, 5, 7, 9]\n",
    "    },\n",
    "    \"Logistic Regression\": {\n",
    "        \"C\": [0.01, 0.1, 1, 10],\n",
    "        \"penalty\": [\"l2\"]\n",
    "    }\n",
    "}\n",
    "\n",
    "results = []"
   ]
  },
  {
   "cell_type": "code",
   "execution_count": null,
   "id": "6674232b",
   "metadata": {},
   "outputs": [],
   "source": [
    "import pickle\n",
    "best_model = None\n",
    "best_recall = 0\n",
    "best_name = \"\"\n",
    "for name, model in models.items():\n",
    "    print(f\"\\nTraining {name}...\")\n",
    "    \n",
    "    if name in param_grids:  \n",
    "        search = RandomizedSearchCV(model, param_grids[name], cv=5, scoring=\"accuracy\", n_jobs=-1)\n",
    "        search.fit(X_train, y_train)\n",
    "        best_model = search.best_estimator_\n",
    "        print(\"Best Params:\", search.best_params_)\n",
    "    else:\n",
    "        best_model = model\n",
    "        best_model.fit(X_train, y_train)\n",
    "    \n",
    "    y_pred = best_model.predict(X_test)\n",
    "\n",
    "\n",
    "    if hasattr(best_model, \"predict_proba\"):\n",
    "        y_proba = best_model.predict_proba(X_test)[:, 1]\n",
    "        y_pred = (y_proba >= 0.3).astype(int)  \n",
    "    else:\n",
    "        y_proba = best_model.decision_function(X_test)\n",
    "\n",
    "    recall=recall_score(y_test,y_pred)\n",
    "    acc = f1_score(y_test,y_pred)\n",
    "    roc = roc_auc_score(y_test, y_proba)\n",
    "    if recall > best_recall:\n",
    "        best_recall = recall\n",
    "        best_model = model\n",
    "        best_name = name\n",
    "\n",
    "    print(\"recall_score:\", recall)\n",
    "    print(\"ROC-AUC:\", roc)\n",
    "    print(\"\\nClassification Report:\\n\", classification_report(y_test, y_pred))\n",
    "\n",
    "   \n",
    "    cm = confusion_matrix(y_test, y_pred)\n",
    "    disp = ConfusionMatrixDisplay(confusion_matrix=cm)\n",
    "    disp.plot(cmap=\"Blues\")\n",
    "    plt.title(f\"{name} - Confusion Matrix\")\n",
    "    plt.show()\n",
    "\n",
    "   \n",
    "    results.append([name, acc, roc])\n"
   ]
  },
  {
   "cell_type": "code",
   "execution_count": null,
   "id": "c6ddf3f2",
   "metadata": {},
   "outputs": [],
   "source": [
    "import pandas as pd\n",
    "from sklearn.metrics import accuracy_score, precision_score\n",
    "\n",
    "results = []\n",
    "\n",
    "for name, model in models.items():\n",
    "    model.fit(X_train, y_train)\n",
    "    y_pred = model.predict(X_test)\n",
    "    y_proba = model.predict_proba(X_test)[:,1] if hasattr(model, \"predict_proba\") else None\n",
    "    \n",
    "    results.append({\n",
    "        \"Model\": name,\n",
    "        \"Accuracy\": accuracy_score(y_test, y_pred),\n",
    "        \"Precision\": precision_score(y_test, y_pred),\n",
    "        \"Recall\": recall_score(y_test, y_pred),\n",
    "        \"F1-Score\": f1_score(y_test, y_pred),\n",
    "        \"ROC-AUC\": roc_auc_score(y_test, y_proba) if y_proba is not None else None\n",
    "    })\n",
    "\n",
    "# Convert results to DataFrame\n",
    "results_df = pd.DataFrame(results)\n",
    "print(\"\\n📊 Model Comparison Table:\\n\")\n",
    "print(results_df)\n",
    "\n",
    "# Find the best model based on Recall\n",
    "best_model_name = results_df.loc[results_df[\"Recall\"].idxmax(), \"Model\"]\n",
    "print(f\"\\n✅ Best model based on Recall Score: {best_model_name}\")\n",
    "\n"
   ]
  },
  {
   "cell_type": "code",
   "execution_count": null,
   "id": "99dc6d02",
   "metadata": {},
   "outputs": [],
   "source": [
    "with open(\"model.pkl\", \"wb\") as f:\n",
    "    pickle.dump((scaler, best_model), f)"
   ]
  }
 ],
 "metadata": {
  "kernelspec": {
   "display_name": "venv",
   "language": "python",
   "name": "python3"
  },
  "language_info": {
   "codemirror_mode": {
    "name": "ipython",
    "version": 3
   },
   "file_extension": ".py",
   "mimetype": "text/x-python",
   "name": "python",
   "nbconvert_exporter": "python",
   "pygments_lexer": "ipython3",
   "version": "3.12.0"
  }
 },
 "nbformat": 4,
 "nbformat_minor": 5
}
